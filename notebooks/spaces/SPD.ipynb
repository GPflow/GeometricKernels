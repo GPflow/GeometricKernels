{
 "cells": [
  {
   "cell_type": "code",
   "execution_count": 1,
   "id": "c96bbd5e",
   "metadata": {},
   "outputs": [],
   "source": [
    "# To run this in Google Colab, uncomment the following line\n",
    "# !pip install \"git+https://github.com/GPflow/GeometricKernels.git\"\n",
    "\n",
    "# If you want to use a version of the library from a different git branch,\n",
    "# say, from the \"devel\" branch, uncomment the line below instedad\n",
    "# !pip install \"git+https://github.com/GPflow/GeometricKernels@devel#egg=GeometricKernels\""
   ]
  },
  {
   "cell_type": "markdown",
   "id": "f7725d07",
   "metadata": {},
   "source": [
    "# Matérn and Heat Kernels on the Manifold of Symmetric Positive Definite Matrices (SPD)\n",
    "\n",
    "This notebook shows how define and evaluate kernels on the manifold of symmetric positive definite matrices $\\mathbb{SPD}(2)$ of size $2 \\times 2$.\n",
    "\n",
    "Handling higher-dimensional manifolds of symmetric positive definite matrices $\\mathbb{SPD}(d)$ for $d > 2$ is essentially the same.\n",
    "\n",
    "**Note:** the points on the hyperbolic space $\\mathbb{SPD}(d)$ are represented by matrices (`array`s of the suitable backend) or size $d \\times d$.\n",
    "\n",
    "We use the **numpy** backend here."
   ]
  },
  {
   "cell_type": "code",
   "execution_count": 2,
   "id": "db41681c",
   "metadata": {},
   "outputs": [],
   "source": [
    "# Import a backend, we use numpy in this example.\n",
    "import numpy as np\n",
    "# Import the geometric_kernels backend.\n",
    "import geometric_kernels\n",
    "# Import a space and an appropriate kernel.\n",
    "from geometric_kernels.spaces import SymmetricPositiveDefiniteMatrices\n",
    "from geometric_kernels.kernels.geometric_kernels import MaternFeatureMapKernel\n",
    "from geometric_kernels.kernels.feature_maps import random_phase_feature_map_noncompact, rejection_sampling_feature_map_hyperbolic\n",
    "\n",
    "import matplotlib as mpl\n",
    "import matplotlib.pyplot as plt\n",
    "\n",
    "import geomstats.visualization as visualization"
   ]
  },
  {
   "cell_type": "markdown",
   "id": "80fd0eab",
   "metadata": {},
   "source": [
    "## Defining a Space"
   ]
  },
  {
   "cell_type": "markdown",
   "id": "5d791fcb",
   "metadata": {},
   "source": [
    "First we create a GeometricKernels `space` that corresponds to the 2-dimensional manifold of symmetric positive definite matrices $\\mathbb{SPD}(2)$."
   ]
  },
  {
   "cell_type": "code",
   "execution_count": 3,
   "id": "499014c5",
   "metadata": {},
   "outputs": [],
   "source": [
    "spd = SymmetricPositiveDefiniteMatrices(2)"
   ]
  },
  {
   "cell_type": "markdown",
   "id": "15ae8dc8",
   "metadata": {},
   "source": [
    "For *non-compact symmetric spaces* such as the `SymmetricPositiveDefiniteMatrices`, the class `MaternFeatureMapKernel` should be used."
   ]
  },
  {
   "cell_type": "markdown",
   "id": "f023e24b",
   "metadata": {},
   "source": [
    "## Theory (Optional Reading)\n",
    "### General Theory Behind `MaternFeatureMapKernel` for Non-compact Symmetric Spaces\n",
    "\n",
    "TODO\n",
    "\n",
    "We employ the kernel defined by the _random phase features_. A complete mathematical treatise can be found in [1]. For the purposes of this notebook, it suffices to say that on noncompact symmetric spaces (of which the Hyperbolic space is a fine specimen), the kernel is defined in terms of an intractable integral over a probability density (called the *spectral density*). To approximate the integral, we use Monte Carlo sampling from the spectral density.\n",
    "\n",
    "This is in contrast to _compact_ spaces (which we call `DiscreteSpectrumSpace`s), where the kernel is a sum of a _series_, that can be approximated via truncation.\n",
    "\n",
    "In the Hyperbolic space, there are several methods for sampling from the spectral density. We will investigate them in this notebook.\n",
    "\n",
    "For practical purposes, we just have to define a number of _random phases_ (the more we define, the better the approximation and the more computation required), specify a feature map, and pass it to the `MaternFeatureMapKernel`. The kernel requires a `key` to instantiate randomness in the _random phases_, and is a **deterministic** function.\n"
   ]
  },
  {
   "cell_type": "markdown",
   "id": "93b86904",
   "metadata": {},
   "source": [
    "## Defining a Kernel"
   ]
  },
  {
   "cell_type": "markdown",
   "id": "9dd9e5d1",
   "metadata": {},
   "source": [
    "To initialize `MaternFeatureMapKernel`, you provide three parameters.\n",
    "First, the `space`, in our case this is the `spd` we have just created above.\n",
    "The second parameter, `feature_map`, desrves a separate description.\n",
    "The third parameter is a random generator `key`.\n",
    "\n",
    "We start with defining a *feature map*. Intuitively, this is analogous to sampling random feature (cosines or complex exponentials) in a random Fourier feature expansion. The parameter `num_random_phases` determins the number of these features. We use 3000 here, it though you can often make do with less."
   ]
  },
  {
   "cell_type": "code",
   "execution_count": 4,
   "id": "5ea05d47",
   "metadata": {},
   "outputs": [],
   "source": [
    "feature_map = random_phase_feature_map_noncompact(spd, num_random_phases=3_000)"
   ]
  },
  {
   "cell_type": "markdown",
   "id": "9cebddc1",
   "metadata": {},
   "source": [
    "We define randomness"
   ]
  },
  {
   "cell_type": "code",
   "execution_count": 5,
   "id": "a8b7c871",
   "metadata": {},
   "outputs": [],
   "source": [
    "key = np.random.RandomState(seed=1234)"
   ]
  },
  {
   "cell_type": "markdown",
   "id": "2d28bfd2",
   "metadata": {},
   "source": [
    "Now we are ready to create a generic Matérn kernel."
   ]
  },
  {
   "cell_type": "code",
   "execution_count": 6,
   "id": "9e04684f",
   "metadata": {},
   "outputs": [],
   "source": [
    "kernel = MaternFeatureMapKernel(spd, feature_map, key)"
   ]
  },
  {
   "cell_type": "markdown",
   "id": "0be3604d",
   "metadata": {},
   "source": [
    "To support JAX, our classes do not contain a *state*, it is external.\n",
    "The next line initializes the *state* which is composed of two parts: `params`, a dictionary with kernel parameters, and `state`, a dictionary containing the eigenpairs.\n",
    "\n",
    "`params` are initialized with some default values.\n",
    "\n",
    "**Note:** our kernels do not contain the outputscale/variance parameter frequently used in Gaussian processes.\n",
    "However, it is usually trivial to add it by multiplying the kernel by an (optimizable) constant."
   ]
  },
  {
   "cell_type": "code",
   "execution_count": 7,
   "id": "84356413",
   "metadata": {},
   "outputs": [
    {
     "name": "stdout",
     "output_type": "stream",
     "text": [
      "params: {'nu': array(inf), 'lengthscale': array(1.)}\n",
      "state: {}\n"
     ]
    }
   ],
   "source": [
    "params, state = kernel.init_params_and_state()\n",
    "print('params:', params)\n",
    "print('state:', state)"
   ]
  },
  {
   "cell_type": "markdown",
   "id": "aa3d284c",
   "metadata": {},
   "source": [
    "To define two different kernels, Matern-3/2 and Matern-∞ (aka heat, RBF, squared exponential, diffusion), we need two different versions of `params`:"
   ]
  },
  {
   "cell_type": "code",
   "execution_count": 8,
   "id": "cb53a70d",
   "metadata": {},
   "outputs": [],
   "source": [
    "params[\"lengthscale\"] = np.array([0.5])\n",
    "params_32  = params.copy()\n",
    "params_inf = params.copy()\n",
    "del params\n",
    "params_32[\"nu\"]  = np.array([3/2])\n",
    "params_inf[\"nu\"] = np.array([np.inf])"
   ]
  },
  {
   "cell_type": "markdown",
   "id": "cdd6b66e",
   "metadata": {},
   "source": [
    "Now two kernels are *defined* and we proceed to evaluating both on a set of random inputs."
   ]
  },
  {
   "cell_type": "markdown",
   "id": "72dbf06a",
   "metadata": {},
   "source": [
    "## Evaluating Kernels on Random Inputs"
   ]
  },
  {
   "cell_type": "markdown",
   "id": "e5c3e2f6",
   "metadata": {},
   "source": [
    "We start by sampling `10` random points on the sphere $\\mathbb{H}_2$.\n",
    "Since the hyperbolic spaces are noncompact, the sampling cannot be uniform, we use TODO."
   ]
  },
  {
   "cell_type": "code",
   "execution_count": 9,
   "id": "9a0208ae",
   "metadata": {},
   "outputs": [
    {
     "name": "stdout",
     "output_type": "stream",
     "text": [
      "[[[ 0.65263749 -0.01038102]\n",
      "  [-0.01038102  0.6855172 ]]\n",
      "\n",
      " [[ 1.03054824  0.16355063]\n",
      "  [ 0.16355063  1.0902606 ]]\n",
      "\n",
      " [[ 1.69034607  0.27645143]\n",
      "  [ 0.27645143  1.96300817]]\n",
      "\n",
      " [[ 1.51188663 -0.93537701]\n",
      "  [-0.93537701  2.21668877]]\n",
      "\n",
      " [[ 0.44627963  0.16696266]\n",
      "  [ 0.16696266  1.49137293]]\n",
      "\n",
      " [[ 3.22419599  2.16167498]\n",
      "  [ 2.16167498  3.51099047]]\n",
      "\n",
      " [[ 1.65175624 -0.65913098]\n",
      "  [-0.65913098  1.44516854]]\n",
      "\n",
      " [[ 1.38518635  0.27114176]\n",
      "  [ 0.27114176  0.46671136]]\n",
      "\n",
      " [[ 0.94800614  0.40765314]\n",
      "  [ 0.40765314  0.73845477]]\n",
      "\n",
      " [[ 2.50335583 -0.44266462]\n",
      "  [-0.44266462  0.49618993]]]\n"
     ]
    }
   ],
   "source": [
    "# key = np.random.RandomState(1234)\n",
    "\n",
    "# key, xs = hyperbolic_space.random(key, 10)\n",
    "\n",
    "xs = spd.random_point(10)\n",
    "\n",
    "print(xs)"
   ]
  },
  {
   "cell_type": "markdown",
   "id": "364c53cb",
   "metadata": {},
   "source": [
    "Now we evaluate the two kernel matrices."
   ]
  },
  {
   "cell_type": "code",
   "execution_count": 10,
   "id": "22c5b08d",
   "metadata": {},
   "outputs": [],
   "source": [
    "kernel_mat_32  = kernel.K(params_32,  state, xs, xs)\n",
    "kernel_mat_inf = kernel.K(params_inf, state, xs, xs)"
   ]
  },
  {
   "cell_type": "markdown",
   "id": "b787a7c8",
   "metadata": {},
   "source": [
    "Finally, we visualize these matrices using `imshow`."
   ]
  },
  {
   "cell_type": "code",
   "execution_count": 11,
   "id": "d36a13ef",
   "metadata": {
    "scrolled": true
   },
   "outputs": [
    {
     "data": {
      "image/png": "[encoded data removed]",
      "text/plain": [
       "<Figure size 640x480 with 3 Axes>"
      ]
     },
     "metadata": {},
     "output_type": "display_data"
    }
   ],
   "source": [
    "# find common range of values\n",
    "minmin = np.min([np.min(kernel_mat_32), np.min(kernel_mat_inf)])\n",
    "maxmax = np.max([np.max(kernel_mat_32), np.max(kernel_mat_inf)])\n",
    "\n",
    "fig, (ax1, ax2) = plt.subplots(nrows=1, ncols=2)\n",
    "cmap = plt.get_cmap('viridis')\n",
    "\n",
    "ax1.imshow(kernel_mat_32, vmin=minmin, vmax=maxmax, cmap=cmap)\n",
    "ax1.set_title('k_32')\n",
    "ax1.set_axis_off()\n",
    "\n",
    "ax2.imshow(kernel_mat_inf, vmin=minmin, vmax=maxmax, cmap=cmap)\n",
    "ax2.set_title('k_inf')\n",
    "ax2.set_axis_off()\n",
    "\n",
    "# add space for color bar\n",
    "fig.subplots_adjust(right=0.85)\n",
    "cbar_ax = fig.add_axes([0.88, 0.25, 0.02, 0.5])\n",
    "\n",
    "# add colorbar\n",
    "sm = plt.cm.ScalarMappable(cmap=cmap,\n",
    "                           norm=plt.Normalize(vmin=minmin, vmax=maxmax))\n",
    "fig.colorbar(sm, cax=cbar_ax)\n",
    "\n",
    "plt.show()"
   ]
  },
  {
   "cell_type": "markdown",
   "id": "e323462e",
   "metadata": {},
   "source": [
    "# Citation\n",
    "\n",
    "If you are using hyperbolic spaces and GeometricKernels, please consider citing\n",
    "\n",
    "```\n",
    "@article{azangulov2023,\n",
    "    title={Stationary Kernels and Gaussian Processes on Lie Groups and their Homogeneous Spaces II: non-compact symmetric spaces},\n",
    "    author={Azangulov, Iskander and Smolensky, Andrei and Terenin, Alexander and Borovitskiy, Viacheslav},\n",
    "    journal={arXiv preprint arXiv:2301.13088},\n",
    "    year={2023}\n",
    "}\n",
    "```"
   ]
  },
  {
   "cell_type": "code",
   "execution_count": null,
   "id": "f6323b39",
   "metadata": {},
   "outputs": [],
   "source": []
  }
 ],
 "metadata": {
  "kernelspec": {
   "display_name": "venv",
   "language": "python",
   "name": "venv"
  },
  "language_info": {
   "codemirror_mode": {
    "name": "ipython",
    "version": 3
   },
   "file_extension": ".py",
   "mimetype": "text/x-python",
   "name": "python",
   "nbconvert_exporter": "python",
   "pygments_lexer": "ipython3",
   "version": "3.8.10"
  }
 },
 "nbformat": 4,
 "nbformat_minor": 5
}
