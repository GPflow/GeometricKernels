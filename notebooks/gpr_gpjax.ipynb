{
 "cells": [
  {
   "cell_type": "markdown",
   "id": "b5f40724",
   "metadata": {},
   "source": [
    "# Geometric Kernels\n",
    "\n",
    "[GPJax](https://github.com/JaxGaussianProcesses/GPJax) is a Python package that provides functionality for defining kernel functions on Riemannian manifolds, graphs and meshes. In this notebook, we'll outline how Geometric kernels can be integrated with GPJax."
   ]
  },
  {
   "cell_type": "code",
   "execution_count": 1,
   "id": "68c2e9c0",
   "metadata": {},
   "outputs": [
    {
     "name": "stderr",
     "output_type": "stream",
     "text": [
      "2022-12-16 09:29:40.410165: W tensorflow/compiler/xla/stream_executor/platform/default/dso_loader.cc:64] Could not load dynamic library 'libcudart.so.11.0'; dlerror: libcudart.so.11.0: cannot open shared object file: No such file or directory\n",
      "2022-12-16 09:29:41.042326: W tensorflow/compiler/xla/stream_executor/platform/default/dso_loader.cc:64] Could not load dynamic library 'libnvinfer.so.7'; dlerror: libnvinfer.so.7: cannot open shared object file: No such file or directory\n",
      "2022-12-16 09:29:41.042442: W tensorflow/compiler/xla/stream_executor/platform/default/dso_loader.cc:64] Could not load dynamic library 'libnvinfer_plugin.so.7'; dlerror: libnvinfer_plugin.so.7: cannot open shared object file: No such file or directory\n",
      "2022-12-16 09:29:41.042451: W tensorflow/compiler/tf2tensorrt/utils/py_utils.cc:38] TF-TRT Warning: Cannot dlopen some TensorRT libraries. If you would like to use Nvidia GPU with TensorRT, please make sure the missing libraries mentioned above are installed properly.\n",
      "WARNING:jax._src.lib.xla_bridge:No GPU/TPU found, falling back to CPU. (Set TF_CPP_MIN_LOG_LEVEL=0 and rerun for more info.)\n",
      "INFO:root:Using numpy backend\n"
     ]
    }
   ],
   "source": [
    "import gpjax as gpx\n",
    "import jax.numpy as jnp\n",
    "import jax.random as jr\n",
    "from jax.config import config\n",
    "from geometric_kernels.kernels import MaternKarhunenLoeveKernel\n",
    "from geometric_kernels.frontends.jax.gpjax import GeometricKernel\n",
    "from geometric_kernels.spaces import Mesh\n",
    "import jax\n",
    "import meshzoo         \n",
    "\n",
    "# config.update(\"jax_enable_x64\", True)\n",
    "key = jr.PRNGKey(123)"
   ]
  },
  {
   "cell_type": "code",
   "execution_count": 2,
   "id": "dc500e84",
   "metadata": {},
   "outputs": [],
   "source": [
    "import geometric_kernels.jax "
   ]
  },
  {
   "cell_type": "markdown",
   "id": "90869a42",
   "metadata": {},
   "source": [
    "## Data\n",
    "\n",
    "We'll now define a dataset that we'll seek to model. The data support used in this example is an icose sphere from the [MeshZoo](https://github.com/meshpro/meshzoo) library. A Matérn kernel is then defined on the sphere and a single draw is taken from the Gaussian process' prior distribution at a random set of points to give us a response variable."
   ]
  },
  {
   "cell_type": "code",
   "execution_count": 3,
   "id": "868f42c1",
   "metadata": {},
   "outputs": [
    {
     "ename": "AttributeError",
     "evalue": "module 'lab' has no attribute 'dtype_int'",
     "output_type": "error",
     "traceback": [
      "\u001b[0;31m---------------------------------------------------------------------------\u001b[0m",
      "\u001b[0;31mAttributeError\u001b[0m                            Traceback (most recent call last)",
      "Cell \u001b[0;32mIn[3], line 21\u001b[0m\n\u001b[1;32m     17\u001b[0m     _y \u001b[39m=\u001b[39m _L \u001b[39m@\u001b[39m jr\u001b[39m.\u001b[39mnormal(key, (num_data,))\n\u001b[1;32m     18\u001b[0m     \u001b[39mreturn\u001b[39;00m _X, _y\n\u001b[0;32m---> 21\u001b[0m X, y \u001b[39m=\u001b[39m get_data()\n\u001b[1;32m     22\u001b[0m X_test \u001b[39m=\u001b[39m jnp\u001b[39m.\u001b[39marange(mesh\u001b[39m.\u001b[39mnum_vertices)\u001b[39m.\u001b[39mreshape(mesh\u001b[39m.\u001b[39mnum_vertices, \u001b[39m1\u001b[39m)\n",
      "Cell \u001b[0;32mIn[3], line 15\u001b[0m, in \u001b[0;36mget_data\u001b[0;34m()\u001b[0m\n\u001b[1;32m     13\u001b[0m \u001b[39mdef\u001b[39;00m \u001b[39mget_data\u001b[39m():\n\u001b[1;32m     14\u001b[0m     _X \u001b[39m=\u001b[39m jr\u001b[39m.\u001b[39mrandint(key, minval\u001b[39m=\u001b[39m\u001b[39m0\u001b[39m, maxval\u001b[39m=\u001b[39mmesh\u001b[39m.\u001b[39mnum_vertices, shape\u001b[39m=\u001b[39m(num_data, \u001b[39m1\u001b[39m))\n\u001b[0;32m---> 15\u001b[0m     _K \u001b[39m=\u001b[39m geometric_kernel\u001b[39m.\u001b[39;49mgram(init_params, _X)\n\u001b[1;32m     16\u001b[0m     _L \u001b[39m=\u001b[39m jnp\u001b[39m.\u001b[39mlinalg\u001b[39m.\u001b[39mcholesky(_K\u001b[39m.\u001b[39mto_dense() \u001b[39m+\u001b[39m jnp\u001b[39m.\u001b[39meye(_K\u001b[39m.\u001b[39mshape[\u001b[39m0\u001b[39m]) \u001b[39m*\u001b[39m \u001b[39m1e-6\u001b[39m)\n\u001b[1;32m     17\u001b[0m     _y \u001b[39m=\u001b[39m _L \u001b[39m@\u001b[39m jr\u001b[39m.\u001b[39mnormal(key, (num_data,))\n",
      "File \u001b[0;32m~/miniconda3/envs/geom_kernels/lib/python3.9/site-packages/gpjax/kernels.py:80\u001b[0m, in \u001b[0;36mAbstractKernelComputation.gram\u001b[0;34m(self, params, inputs)\u001b[0m\n\u001b[1;32m     63\u001b[0m \u001b[39mdef\u001b[39;00m \u001b[39mgram\u001b[39m(\n\u001b[1;32m     64\u001b[0m     \u001b[39mself\u001b[39m,\n\u001b[1;32m     65\u001b[0m     params: Dict,\n\u001b[1;32m     66\u001b[0m     inputs: Float[Array, \u001b[39m\"\u001b[39m\u001b[39mN D\u001b[39m\u001b[39m\"\u001b[39m],\n\u001b[1;32m     67\u001b[0m ) \u001b[39m-\u001b[39m\u001b[39m>\u001b[39m LinearOperator:\n\u001b[1;32m     69\u001b[0m     \u001b[39m\"\"\"Compute Gram covariance operator of the kernel function.\u001b[39;00m\n\u001b[1;32m     70\u001b[0m \n\u001b[1;32m     71\u001b[0m \u001b[39m    Args:\u001b[39;00m\n\u001b[0;32m   (...)\u001b[0m\n\u001b[1;32m     77\u001b[0m \u001b[39m        LinearOperator: Gram covariance operator of the kernel function.\u001b[39;00m\n\u001b[1;32m     78\u001b[0m \u001b[39m    \"\"\"\u001b[39;00m\n\u001b[0;32m---> 80\u001b[0m     matrix \u001b[39m=\u001b[39m \u001b[39mself\u001b[39;49m\u001b[39m.\u001b[39;49mcross_covariance(params, inputs, inputs)\n\u001b[1;32m     82\u001b[0m     \u001b[39mreturn\u001b[39;00m DenseLinearOperator(matrix\u001b[39m=\u001b[39mmatrix)\n",
      "File \u001b[0;32m~/python_dev/GeometricKernels/geometric_kernels/frontends/jax/gpjax.py:41\u001b[0m, in \u001b[0;36m_GeometricComputation.cross_covariance\u001b[0;34m(self, params, x, y)\u001b[0m\n\u001b[1;32m     28\u001b[0m \u001b[39mdef\u001b[39;00m \u001b[39mcross_covariance\u001b[39m(\n\u001b[1;32m     29\u001b[0m     \u001b[39mself\u001b[39m, params: tp\u001b[39m.\u001b[39mDict, x: Float[Array, \u001b[39m\"\u001b[39m\u001b[39mN D\u001b[39m\u001b[39m\"\u001b[39m], y: Float[Array, \u001b[39m\"\u001b[39m\u001b[39mM D\u001b[39m\u001b[39m\"\u001b[39m]\n\u001b[1;32m     30\u001b[0m ) \u001b[39m-\u001b[39m\u001b[39m>\u001b[39m Float[Array, \u001b[39m\"\u001b[39m\u001b[39mN M\u001b[39m\u001b[39m\"\u001b[39m]:\n\u001b[1;32m     31\u001b[0m     \u001b[39m\"\"\"Compute the cross covariance matrix between two matrices of inputs.\u001b[39;00m\n\u001b[1;32m     32\u001b[0m \n\u001b[1;32m     33\u001b[0m \u001b[39m    Args:\u001b[39;00m\n\u001b[0;32m   (...)\u001b[0m\n\u001b[1;32m     39\u001b[0m \u001b[39m        Float[Array, \"N M\"]: The N x M covariance matrix.\u001b[39;00m\n\u001b[1;32m     40\u001b[0m \u001b[39m    \"\"\"\u001b[39;00m\n\u001b[0;32m---> 41\u001b[0m     matrix \u001b[39m=\u001b[39m jnp\u001b[39m.\u001b[39masarray(\u001b[39mself\u001b[39;49m\u001b[39m.\u001b[39;49mkernel_fn(params, x, y))\n\u001b[1;32m     42\u001b[0m     \u001b[39mreturn\u001b[39;00m matrix\n",
      "File \u001b[0;32m~/python_dev/GeometricKernels/geometric_kernels/frontends/jax/gpjax.py:80\u001b[0m, in \u001b[0;36mGeometricKernel.__call__\u001b[0;34m(self, params, x, y)\u001b[0m\n\u001b[1;32m     67\u001b[0m \u001b[39mdef\u001b[39;00m \u001b[39m__call__\u001b[39m(\n\u001b[1;32m     68\u001b[0m     \u001b[39mself\u001b[39m, params: tp\u001b[39m.\u001b[39mDict, x: Float[Array, \u001b[39m\"\u001b[39m\u001b[39mN D\u001b[39m\u001b[39m\"\u001b[39m], y: Float[Array, \u001b[39m\"\u001b[39m\u001b[39mM D\u001b[39m\u001b[39m\"\u001b[39m]\n\u001b[1;32m     69\u001b[0m ) \u001b[39m-\u001b[39m\u001b[39m>\u001b[39m Float[Array, \u001b[39m\"\u001b[39m\u001b[39mN D\u001b[39m\u001b[39m\"\u001b[39m]:\n\u001b[1;32m     70\u001b[0m     \u001b[39m\"\"\"Compute the cross covariance matrix between two matrices of inputs.\u001b[39;00m\n\u001b[1;32m     71\u001b[0m \n\u001b[1;32m     72\u001b[0m \u001b[39m    Args:\u001b[39;00m\n\u001b[0;32m   (...)\u001b[0m\n\u001b[1;32m     78\u001b[0m \u001b[39m        Float[Array, \"N M\"]: The N x M covariance matrix.\u001b[39;00m\n\u001b[1;32m     79\u001b[0m \u001b[39m    \"\"\"\u001b[39;00m\n\u001b[0;32m---> 80\u001b[0m     \u001b[39mreturn\u001b[39;00m \u001b[39mself\u001b[39;49m\u001b[39m.\u001b[39;49mbase_kernel\u001b[39m.\u001b[39;49mK(params, \u001b[39mself\u001b[39;49m\u001b[39m.\u001b[39;49mstate, x, y)\n",
      "File \u001b[0;32m~/python_dev/GeometricKernels/geometric_kernels/kernels/geometric_kernels.py:129\u001b[0m, in \u001b[0;36mMaternKarhunenLoeveKernel.K\u001b[0;34m(self, params, state, X, X2, **kwargs)\u001b[0m\n\u001b[1;32m    124\u001b[0m weights \u001b[39m=\u001b[39m B\u001b[39m.\u001b[39mcast(\n\u001b[1;32m    125\u001b[0m     B\u001b[39m.\u001b[39mdtype(params[\u001b[39m\"\u001b[39m\u001b[39mnu\u001b[39m\u001b[39m\"\u001b[39m]), \u001b[39mself\u001b[39m\u001b[39m.\u001b[39meigenvalues(params, state)\n\u001b[1;32m    126\u001b[0m )  \u001b[39m# [M, 1]\u001b[39;00m\n\u001b[1;32m    127\u001b[0m Phi \u001b[39m=\u001b[39m state[\u001b[39m\"\u001b[39m\u001b[39meigenfunctions\u001b[39m\u001b[39m\"\u001b[39m]\n\u001b[0;32m--> 129\u001b[0m \u001b[39mreturn\u001b[39;00m Phi\u001b[39m.\u001b[39;49mweighted_outerproduct(weights, X, X2, \u001b[39m*\u001b[39;49m\u001b[39m*\u001b[39;49mparams)\n",
      "File \u001b[0;32m~/python_dev/GeometricKernels/geometric_kernels/spaces/eigenfunctions.py:38\u001b[0m, in \u001b[0;36mEigenfunctions.weighted_outerproduct\u001b[0;34m(self, weights, X, X2, **parameters)\u001b[0m\n\u001b[1;32m     19\u001b[0m \u001b[39mdef\u001b[39;00m \u001b[39mweighted_outerproduct\u001b[39m(\n\u001b[1;32m     20\u001b[0m     \u001b[39mself\u001b[39m,\n\u001b[1;32m     21\u001b[0m     weights: B\u001b[39m.\u001b[39mNumeric,\n\u001b[0;32m   (...)\u001b[0m\n\u001b[1;32m     24\u001b[0m     \u001b[39m*\u001b[39m\u001b[39m*\u001b[39mparameters,\n\u001b[1;32m     25\u001b[0m ) \u001b[39m-\u001b[39m\u001b[39m>\u001b[39m B\u001b[39m.\u001b[39mNumeric:\n\u001b[1;32m     26\u001b[0m     \u001b[39mr\u001b[39m\u001b[39m\"\"\"\u001b[39;00m\n\u001b[1;32m     27\u001b[0m \u001b[39m    Computes :math:`\\sum_{i=0}^{M-1} w_i \\phi_i(x1) \\phi_i(x2)`.\u001b[39;00m\n\u001b[1;32m     28\u001b[0m \n\u001b[0;32m   (...)\u001b[0m\n\u001b[1;32m     36\u001b[0m \u001b[39m    :return: shape [N, N2]\u001b[39;00m\n\u001b[1;32m     37\u001b[0m \u001b[39m    \"\"\"\u001b[39;00m\n\u001b[0;32m---> 38\u001b[0m     Phi_X \u001b[39m=\u001b[39m \u001b[39mself\u001b[39;49m\u001b[39m.\u001b[39;49m\u001b[39m__call__\u001b[39;49m(X, \u001b[39m*\u001b[39;49m\u001b[39m*\u001b[39;49mparameters)  \u001b[39m# [N, L]\u001b[39;00m\n\u001b[1;32m     39\u001b[0m     \u001b[39mif\u001b[39;00m X2 \u001b[39mis\u001b[39;00m \u001b[39mNone\u001b[39;00m:\n\u001b[1;32m     40\u001b[0m         Phi_X2 \u001b[39m=\u001b[39m Phi_X\n",
      "File \u001b[0;32m~/python_dev/GeometricKernels/geometric_kernels/spaces/base.py:86\u001b[0m, in \u001b[0;36mConvertEigenvectorsToEigenfunctions.__call__\u001b[0;34m(self, X, **parameters)\u001b[0m\n\u001b[1;32m     78\u001b[0m \u001b[39mdef\u001b[39;00m \u001b[39m__call__\u001b[39m(\u001b[39mself\u001b[39m, X: B\u001b[39m.\u001b[39mNumeric, \u001b[39m*\u001b[39m\u001b[39m*\u001b[39mparameters) \u001b[39m-\u001b[39m\u001b[39m>\u001b[39m B\u001b[39m.\u001b[39mNumeric:\n\u001b[1;32m     79\u001b[0m     \u001b[39m\"\"\"\u001b[39;00m\n\u001b[1;32m     80\u001b[0m \u001b[39m    Selects `N` locations from the `M` eigenvectors.\u001b[39;00m\n\u001b[1;32m     81\u001b[0m \n\u001b[0;32m   (...)\u001b[0m\n\u001b[1;32m     84\u001b[0m \u001b[39m    :return: [N, M]\u001b[39;00m\n\u001b[1;32m     85\u001b[0m \u001b[39m    \"\"\"\u001b[39;00m\n\u001b[0;32m---> 86\u001b[0m     indices \u001b[39m=\u001b[39m B\u001b[39m.\u001b[39mcast(B\u001b[39m.\u001b[39;49mdtype_int(X), X)\n\u001b[1;32m     87\u001b[0m     Phi \u001b[39m=\u001b[39m take_along_axis(\u001b[39mself\u001b[39m\u001b[39m.\u001b[39meigenvectors, indices, axis\u001b[39m=\u001b[39m\u001b[39m0\u001b[39m)\n\u001b[1;32m     88\u001b[0m     \u001b[39mreturn\u001b[39;00m Phi\n",
      "\u001b[0;31mAttributeError\u001b[0m: module 'lab' has no attribute 'dtype_int'"
     ]
    }
   ],
   "source": [
    "resolution = 40\n",
    "num_data = 25\n",
    "vertices, faces = meshzoo.icosa_sphere(resolution)\n",
    "mesh = Mesh(vertices, faces)\n",
    "\n",
    "truncation_level = 20\n",
    "base_kernel = MaternKarhunenLoeveKernel(mesh, truncation_level)\n",
    "geometric_kernel = GeometricKernel(base_kernel)\n",
    "\n",
    "init_params = geometric_kernel._initialise_params(key)\n",
    "\n",
    "\n",
    "def get_data():\n",
    "    _X = jr.randint(key, minval=0, maxval=mesh.num_vertices, shape=(num_data, 1))\n",
    "    _K = geometric_kernel.gram(init_params, _X)\n",
    "    _L = jnp.linalg.cholesky(_K.to_dense() + jnp.eye(_K.shape[0]) * 1e-6)\n",
    "    _y = _L @ jr.normal(key, (num_data,))\n",
    "    return _X, _y\n",
    "\n",
    "\n",
    "X, y = get_data()\n",
    "X_test = jnp.arange(mesh.num_vertices).reshape(mesh.num_vertices, 1)"
   ]
  },
  {
   "cell_type": "code",
   "execution_count": null,
   "id": "3a226934",
   "metadata": {},
   "outputs": [],
   "source": [
    "resolution = 40\n",
    "num_data = 25\n",
    "vertices, faces = meshzoo.icosa_sphere(resolution)\n",
    "mesh = Mesh(vertices, faces)\n",
    "\n",
    "truncation_level = 20\n",
    "base_kernel = MaternKarhunenLoeveKernel(mesh, truncation_level)\n",
    "geometric_kernel = GeometricKernel(base_kernel)\n",
    "\n",
    "init_params = geometric_kernel._initialise_params(key)\n",
    "\n",
    "\n",
    "def get_data():\n",
    "    _X = jr.randint(key, minval=0, maxval=mesh.num_vertices, shape=(num_data, 1))\n",
    "    _K = geometric_kernel.gram(init_params, _X)\n",
    "    _L = jnp.linalg.cholesky(_K.to_dense() + jnp.eye(_K.shape[0]) * 1e-6)\n",
    "    _y = _L @ jr.normal(key, (num_data,))\n",
    "    return _X, _y\n",
    "\n",
    "\n",
    "X, y = get_data()\n",
    "X_test = jnp.arange(mesh.num_vertices).reshape(mesh.num_vertices, 1)"
   ]
  },
  {
   "cell_type": "markdown",
   "id": "580034b6",
   "metadata": {},
   "source": [
    "## Model specification\n",
    "\n",
    "A model can now be defined. We'll purposefully keep this section brief as the workflow is identical to that of a regular Gaussian process regression workflow that is detailed in [full](https://gpjax.readthedocs.io/en/latest/examples/regression.html)."
   ]
  },
  {
   "cell_type": "code",
   "execution_count": null,
   "id": "f02d9a56",
   "metadata": {},
   "outputs": [],
   "source": [
    "data = gpx.Dataset(X=X, y=y.reshape(-1, 1))\n",
    "\n",
    "prior = gpx.Prior(kernel=geometric_kernel)\n",
    "gpx.config.add_parameter(\"nu\", gpx.config.Softplus)\n",
    "\n",
    "likelihood = gpx.likelihoods.Gaussian(num_datapoints=num_data)\n",
    "\n",
    "posterior = likelihood * prior"
   ]
  },
  {
   "cell_type": "markdown",
   "id": "2ee4d424",
   "metadata": {},
   "source": [
    "As with a regular conjugate Gaussian process, the marginal log-likelihood is tractable and can be evaluated using the posterior's `marginal_log_likelihood` method."
   ]
  },
  {
   "cell_type": "code",
   "execution_count": null,
   "id": "3f4ae6a4",
   "metadata": {},
   "outputs": [],
   "source": [
    "params, _, _ = gpx.initialise(posterior, key).unpack()\n",
    "\n",
    "posterior.marginal_log_likelihood(data)(params)"
   ]
  },
  {
   "cell_type": "markdown",
   "id": "dec7bda6",
   "metadata": {},
   "source": [
    "Derivatives of the marginal log-likelihood can be taken."
   ]
  },
  {
   "cell_type": "code",
   "execution_count": null,
   "id": "055ba1e4",
   "metadata": {},
   "outputs": [],
   "source": [
    "grads = jax.grad(posterior.marginal_log_likelihood(data, negative=True))(params)\n",
    "print(grads)"
   ]
  },
  {
   "cell_type": "markdown",
   "id": "23a4e36e",
   "metadata": {},
   "source": [
    "Finally, the predictive posterior can be computed for making predictions at unseen points. Evaluating the predictive posterior distribution returns a multivariate Gaussian distribution for which we can compute the posterior mean and variance as follows."
   ]
  },
  {
   "cell_type": "code",
   "execution_count": null,
   "id": "9cad6772",
   "metadata": {},
   "outputs": [],
   "source": [
    "predictive_posterior = posterior.predict(params, data)(X_test)\n",
    "\n",
    "mu = predictive_posterior.mean()\n",
    "sigma2 = predictive_posterior.variance()"
   ]
  },
  {
   "cell_type": "code",
   "execution_count": null,
   "id": "92260c6b",
   "metadata": {},
   "outputs": [],
   "source": [
    "%reload_ext watermark\n",
    "%watermark -n -u -v -iv -w -a 'Thomas Pinder'"
   ]
  },
  {
   "cell_type": "code",
   "execution_count": null,
   "id": "42b5d0e6",
   "metadata": {},
   "outputs": [],
   "source": []
  }
 ],
 "metadata": {
  "jupytext": {
   "cell_metadata_filter": "-all",
   "custom_cell_magics": "kql",
   "encoding": "# -*- coding: utf-8 -*-"
  },
  "kernelspec": {
   "display_name": "Python 3.9.15 ('geom_kernels')",
   "language": "python",
   "name": "python3"
  },
  "language_info": {
   "codemirror_mode": {
    "name": "ipython",
    "version": 3
   },
   "file_extension": ".py",
   "mimetype": "text/x-python",
   "name": "python",
   "nbconvert_exporter": "python",
   "pygments_lexer": "ipython3",
   "version": "3.9.15"
  },
  "vscode": {
   "interpreter": {
    "hash": "ac4e3e560a819fea325e71fb1f32d4b3eb3f4b4768b78485241e42962cf1d521"
   }
  }
 },
 "nbformat": 4,
 "nbformat_minor": 5
}
