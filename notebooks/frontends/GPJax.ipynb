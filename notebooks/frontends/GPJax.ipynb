{
 "cells": [
  {
   "cell_type": "markdown",
   "id": "edd1059e",
   "metadata": {},
   "source": [
    "# Geometric Kernels\n",
    "\n",
    "[GPJax](https://github.com/JaxGaussianProcesses/GPJax) is a Python package for working wit Gaussian processes in JAX. This notebook highlights how Geometric Kernels can be integrated into the functionality provided in GPJax."
   ]
  },
  {
   "cell_type": "code",
   "execution_count": 3,
   "id": "5d2304a6",
   "metadata": {
    "tags": []
   },
   "outputs": [
    {
     "name": "stderr",
     "output_type": "stream",
     "text": [
      "2023-09-02 13:52:31.444970: W tensorflow/compiler/tf2tensorrt/utils/py_utils.cc:38] TF-TRT Warning: Could not find TensorRT\n",
      "No GPU/TPU found, falling back to CPU. (Set TF_CPP_MIN_LOG_LEVEL=0 and rerun for more info.)\n",
      "INFO: Using numpy backend\n"
     ]
    },
    {
     "ename": "AttributeError",
     "evalue": "module 'gpjax.kernels' has no attribute 'AbstractKernelComputation'",
     "output_type": "error",
     "traceback": [
      "\u001b[0;31m---------------------------------------------------------------------------\u001b[0m",
      "\u001b[0;31mAttributeError\u001b[0m                            Traceback (most recent call last)",
      "Cell \u001b[0;32mIn[3], line 6\u001b[0m\n\u001b[1;32m      4\u001b[0m \u001b[38;5;28;01mfrom\u001b[39;00m \u001b[38;5;21;01mjax\u001b[39;00m\u001b[38;5;21;01m.\u001b[39;00m\u001b[38;5;21;01mconfig\u001b[39;00m \u001b[38;5;28;01mimport\u001b[39;00m config\n\u001b[1;32m      5\u001b[0m \u001b[38;5;28;01mimport\u001b[39;00m \u001b[38;5;21;01mgeometric_kernels\u001b[39;00m\u001b[38;5;21;01m.\u001b[39;00m\u001b[38;5;21;01mjax\u001b[39;00m \n\u001b[0;32m----> 6\u001b[0m \u001b[38;5;28;01mfrom\u001b[39;00m \u001b[38;5;21;01mgeometric_kernels\u001b[39;00m\u001b[38;5;21;01m.\u001b[39;00m\u001b[38;5;21;01mfrontends\u001b[39;00m\u001b[38;5;21;01m.\u001b[39;00m\u001b[38;5;21;01mjax\u001b[39;00m\u001b[38;5;21;01m.\u001b[39;00m\u001b[38;5;21;01mgpjax\u001b[39;00m \u001b[38;5;28;01mimport\u001b[39;00m GPJaxGeometricKernel\n\u001b[1;32m      7\u001b[0m \u001b[38;5;28;01mfrom\u001b[39;00m \u001b[38;5;21;01mgeometric_kernels\u001b[39;00m\u001b[38;5;21;01m.\u001b[39;00m\u001b[38;5;21;01mkernels\u001b[39;00m \u001b[38;5;28;01mimport\u001b[39;00m MaternKarhunenLoeveKernel\n\u001b[1;32m      8\u001b[0m \u001b[38;5;28;01mfrom\u001b[39;00m \u001b[38;5;21;01mgeometric_kernels\u001b[39;00m\u001b[38;5;21;01m.\u001b[39;00m\u001b[38;5;21;01mspaces\u001b[39;00m \u001b[38;5;28;01mimport\u001b[39;00m Mesh\n",
      "File \u001b[0;32m~/slava/workspace/ml/GeometricKernels/geometric_kernels/frontends/jax/gpjax.py:12\u001b[0m\n\u001b[1;32m      7\u001b[0m \u001b[38;5;28;01mfrom\u001b[39;00m \u001b[38;5;21;01mjaxtyping\u001b[39;00m \u001b[38;5;28;01mimport\u001b[39;00m Array, Float\n\u001b[1;32m      9\u001b[0m \u001b[38;5;28;01mfrom\u001b[39;00m \u001b[38;5;21;01m.\u001b[39;00m\u001b[38;5;21;01m.\u001b[39;00m\u001b[38;5;21;01m.\u001b[39;00m\u001b[38;5;21;01mkernels\u001b[39;00m \u001b[38;5;28;01mimport\u001b[39;00m BaseGeometricKernel\n\u001b[0;32m---> 12\u001b[0m \u001b[38;5;28;01mclass\u001b[39;00m \u001b[38;5;21;01m_GeometricComputation\u001b[39;00m(\u001b[43mgpjax\u001b[49m\u001b[38;5;241;43m.\u001b[39;49m\u001b[43mkernels\u001b[49m\u001b[38;5;241;43m.\u001b[39;49m\u001b[43mAbstractKernelComputation\u001b[49m):\n\u001b[1;32m     13\u001b[0m \u001b[38;5;250m    \u001b[39m\u001b[38;5;124;03m\"\"\"\u001b[39;00m\n\u001b[1;32m     14\u001b[0m \u001b[38;5;124;03m    A class for computing the covariance matrix of a geometric kernel.\u001b[39;00m\n\u001b[1;32m     15\u001b[0m \u001b[38;5;124;03m    \"\"\"\u001b[39;00m\n\u001b[1;32m     17\u001b[0m     \u001b[38;5;28;01mdef\u001b[39;00m \u001b[38;5;21m__init__\u001b[39m(\n\u001b[1;32m     18\u001b[0m         \u001b[38;5;28mself\u001b[39m,\n\u001b[1;32m     19\u001b[0m         kernel_fn: tp\u001b[38;5;241m.\u001b[39mCallable[\n\u001b[1;32m     20\u001b[0m             [tp\u001b[38;5;241m.\u001b[39mDict, Float[Array, \u001b[38;5;124m\"\u001b[39m\u001b[38;5;124mN D\u001b[39m\u001b[38;5;124m\"\u001b[39m], Float[Array, \u001b[38;5;124m\"\u001b[39m\u001b[38;5;124mM D\u001b[39m\u001b[38;5;124m\"\u001b[39m]], Array\n\u001b[1;32m     21\u001b[0m         ] \u001b[38;5;241m=\u001b[39m \u001b[38;5;28;01mNone\u001b[39;00m,\n\u001b[1;32m     22\u001b[0m     ) \u001b[38;5;241m-\u001b[39m\u001b[38;5;241m>\u001b[39m \u001b[38;5;28;01mNone\u001b[39;00m:\n",
      "\u001b[0;31mAttributeError\u001b[0m: module 'gpjax.kernels' has no attribute 'AbstractKernelComputation'"
     ]
    }
   ],
   "source": [
    "import gpjax as gpx\n",
    "import jax.numpy as jnp\n",
    "import jax.random as jr\n",
    "from jax.config import config\n",
    "import geometric_kernels.jax \n",
    "from geometric_kernels.frontends.jax.gpjax import GPJaxGeometricKernel\n",
    "from geometric_kernels.kernels import MaternKarhunenLoeveKernel\n",
    "from geometric_kernels.spaces import Mesh\n",
    "import jax\n",
    "import meshzoo         \n",
    "\n",
    "config.update(\"jax_enable_x64\", True)\n",
    "key = jr.PRNGKey(123)"
   ]
  },
  {
   "cell_type": "markdown",
   "id": "7d4cc6b3",
   "metadata": {},
   "source": [
    "## Data\n",
    "\n",
    "We'll now define a dataset that we'll seek to model. The data support used in this example is an icose sphere from the [MeshZoo](https://github.com/meshpro/meshzoo) library. A Matérn kernel is then defined on the sphere and a single draw is taken from the Gaussian process' prior distribution at a random set of points to give us a response variable."
   ]
  },
  {
   "cell_type": "code",
   "execution_count": 2,
   "id": "12ee33b2",
   "metadata": {
    "tags": []
   },
   "outputs": [],
   "source": [
    "resolution = 3\n",
    "num_data = 25\n",
    "vertices, faces = meshzoo.icosa_sphere(resolution)\n",
    "mesh = Mesh(vertices, faces)\n",
    "\n",
    "truncation_level = 20\n",
    "base_kernel = MaternKarhunenLoeveKernel(mesh, truncation_level)\n",
    "geometric_kernel = GPJaxGeometricKernel(base_kernel)\n",
    "\n",
    "init_params = geometric_kernel.init_params(key)\n",
    "\n",
    "\n",
    "def get_data():\n",
    "    _X = jr.randint(key, minval=0, maxval=mesh.num_vertices, shape=(num_data, 1))\n",
    "    _K = geometric_kernel.gram(init_params, _X)\n",
    "    _L = jnp.linalg.cholesky(_K.to_dense() + jnp.eye(_K.shape[0]) * 1e-6)\n",
    "    _y = _L @ jr.normal(key, (num_data,))\n",
    "    return _X, _y\n",
    "\n",
    "\n",
    "X, y = get_data()\n",
    "X_test = jnp.arange(mesh.num_vertices).reshape(mesh.num_vertices, 1)"
   ]
  },
  {
   "cell_type": "markdown",
   "id": "f399fd97",
   "metadata": {},
   "source": [
    "## Model specification\n",
    "\n",
    "A model can now be defined. We'll purposefully keep this section brief as the workflow is identical to that of a regular Gaussian process regression model that is detailed in [full](https://gpjax.readthedocs.io/en/latest/examples/regression.html)."
   ]
  },
  {
   "cell_type": "code",
   "execution_count": 3,
   "id": "62eb9aee",
   "metadata": {
    "tags": []
   },
   "outputs": [
    {
     "name": "stderr",
     "output_type": "stream",
     "text": [
      "/tmp/ipykernel_5060/1632642032.py:1: DeprecatedWarning: Dataset is deprecated as of 0.5.5 and will be removed in 0.6.0. Use JaxUtils for a Dataset object\n",
      "  data = gpx.Dataset(X=X, y=y.reshape(-1, 1))\n",
      "/tmp/ipykernel_5060/1632642032.py:4: DeprecatedWarning: add_parameter is deprecated as of 0.5.6 and will be removed in 0.6.0. Use method from jaxutils.config instead.\n",
      "  gpx.config.add_parameter(\"nu\", gpx.config.Softplus)\n"
     ]
    }
   ],
   "source": [
    "data = gpx.Dataset(X=X, y=y.reshape(-1, 1))\n",
    "\n",
    "prior = gpx.Prior(kernel=geometric_kernel)\n",
    "gpx.config.add_parameter(\"nu\", gpx.config.Softplus)\n",
    "\n",
    "likelihood = gpx.likelihoods.Gaussian(num_datapoints=num_data)\n",
    "\n",
    "posterior = likelihood * prior"
   ]
  },
  {
   "cell_type": "markdown",
   "id": "1e58bb52",
   "metadata": {},
   "source": [
    "As with a regular conjugate Gaussian process, the marginal log-likelihood is tractable and can be evaluated using the posterior's `marginal_log_likelihood` method."
   ]
  },
  {
   "cell_type": "code",
   "execution_count": 4,
   "id": "2e3c67ee",
   "metadata": {
    "tags": []
   },
   "outputs": [
    {
     "data": {
      "text/plain": [
       "Array(-23.32777922, dtype=float64)"
      ]
     },
     "execution_count": 4,
     "metadata": {},
     "output_type": "execute_result"
    }
   ],
   "source": [
    "params, _, _ = gpx.initialise(posterior, key).unpack()\n",
    "\n",
    "posterior.marginal_log_likelihood(data)(params)"
   ]
  },
  {
   "cell_type": "markdown",
   "id": "d7ce7810",
   "metadata": {},
   "source": [
    "Derivatives of the marginal log-likelihood can be taken."
   ]
  },
  {
   "cell_type": "code",
   "execution_count": 5,
   "id": "5f8c9df3",
   "metadata": {
    "tags": []
   },
   "outputs": [
    {
     "name": "stdout",
     "output_type": "stream",
     "text": [
      "{'kernel': {'lengthscale': Array([-0.52077028], dtype=float64), 'nu': Array([0.], dtype=float64)}, 'likelihood': {'obs_noise': Array([12.17021713], dtype=float64)}, 'mean_function': {}}\n"
     ]
    }
   ],
   "source": [
    "grads = jax.grad(posterior.marginal_log_likelihood(data, negative=True))(params)\n",
    "print(grads)"
   ]
  },
  {
   "cell_type": "markdown",
   "id": "1b92a6a3",
   "metadata": {},
   "source": [
    "Finally, the predictive posterior can be computed for making predictions at unseen points. Evaluating the predictive posterior distribution returns a multivariate Gaussian distribution for which we can compute the posterior mean and variance as follows."
   ]
  },
  {
   "cell_type": "code",
   "execution_count": 6,
   "id": "ea40c771",
   "metadata": {
    "tags": []
   },
   "outputs": [],
   "source": [
    "predictive_posterior = posterior.predict(params, data)(X_test)\n",
    "\n",
    "mu = predictive_posterior.mean()\n",
    "sigma2 = predictive_posterior.variance()"
   ]
  },
  {
   "cell_type": "code",
   "execution_count": 1,
   "id": "74f10eb6",
   "metadata": {},
   "outputs": [],
   "source": [
    "import jax"
   ]
  },
  {
   "cell_type": "code",
   "execution_count": 2,
   "id": "a2bd457b",
   "metadata": {},
   "outputs": [
    {
     "data": {
      "text/plain": [
       "'0.4.13'"
      ]
     },
     "execution_count": 2,
     "metadata": {},
     "output_type": "execute_result"
    }
   ],
   "source": [
    "jax.__version__"
   ]
  },
  {
   "cell_type": "code",
   "execution_count": null,
   "id": "1212f57b",
   "metadata": {},
   "outputs": [],
   "source": []
  }
 ],
 "metadata": {
  "jupytext": {
   "cell_metadata_filter": "-all",
   "custom_cell_magics": "kql",
   "encoding": "# -*- coding: utf-8 -*-"
  },
  "kernelspec": {
   "display_name": "Python 3",
   "language": "python",
   "name": "python3"
  },
  "language_info": {
   "codemirror_mode": {
    "name": "ipython",
    "version": 3
   },
   "file_extension": ".py",
   "mimetype": "text/x-python",
   "name": "python",
   "nbconvert_exporter": "python",
   "pygments_lexer": "ipython3",
   "version": "3.8.10"
  },
  "vscode": {
   "interpreter": {
    "hash": "ac4e3e560a819fea325e71fb1f32d4b3eb3f4b4768b78485241e42962cf1d521"
   }
  }
 },
 "nbformat": 4,
 "nbformat_minor": 5
}
